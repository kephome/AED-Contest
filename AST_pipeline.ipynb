{
 "cells": [
  {
   "cell_type": "code",
   "execution_count": 1,
   "metadata": {
    "colab": {
     "base_uri": "https://localhost:8080/"
    },
    "id": "n6qgi0OcgOt9",
    "outputId": "69077ac1-05dd-42c0-d795-878820d94f4d"
   },
   "outputs": [],
   "source": [
    "#!pip install --upgrade --force-reinstall transformers"
   ]
  },
  {
   "cell_type": "code",
   "execution_count": 2,
   "metadata": {
    "id": "PKnoyDOtM9gH"
   },
   "outputs": [],
   "source": [
    "import os.path as path\n",
    "import os\n",
    "import pickle\n",
    "from enum import Enum\n",
    "from typing import NoReturn, Optional\n",
    "from tqdm import tqdm\n",
    "import random\n",
    "from pprint import pprint\n",
    "import pandas as pd\n",
    "import numpy as np\n",
    "import time\n",
    "\n",
    "import librosa\n",
    "import librosa.feature as audio_F\n",
    "\n",
    "from sklearn.model_selection import train_test_split\n",
    "from sklearn.metrics import f1_score\n",
    "\n",
    "import torch\n",
    "import torch.nn as nn\n",
    "import torch.nn.functional as nn_F\n",
    "from torch.utils.data import Dataset\n",
    "from torch.utils.data import DataLoader\n",
    "import torchaudio\n",
    "import torchaudio.transforms as T\n",
    "\n",
    "from transformers import ASTFeatureExtractor\n",
    "from transformers import AutoModelForAudioClassification\n",
    "\n",
    "import matplotlib.pyplot as plt\n",
    "\n",
    "from IPython.display import Audio\n",
    "\n",
    "import warnings\n",
    "warnings.filterwarnings('ignore')\n"
   ]
  },
  {
   "cell_type": "code",
   "execution_count": 3,
   "metadata": {
    "colab": {
     "base_uri": "https://localhost:8080/"
    },
    "id": "ZpRQcdoGgI4p",
    "outputId": "abb6601c-7f54-4aa3-bdb6-abe8c3bf78b9"
   },
   "outputs": [
    {
     "name": "stdout",
     "output_type": "stream",
     "text": [
      "device='cuda'\n",
      "num_workers=0, cpu_count=4\n"
     ]
    }
   ],
   "source": [
    "# feature extraction parameters\n",
    "sample_rate = 16000  # was 11025\n",
    "n_fft = 1024\n",
    "overlap = 4\n",
    "hop_length = n_fft // overlap\n",
    "n_mels = 128  # was 64\n",
    "\n",
    "device = device = \"cuda\" if torch.cuda.is_available() else \"cpu\"\n",
    "print(f'{device=}')\n",
    "\n",
    "cpu_count = os.cpu_count()\n",
    "num_workers = cpu_count if device == \"cpu\" else 0\n",
    "print(f'{num_workers=}, {cpu_count=}')\n",
    "\n",
    "def set_random_state(random_state:int=0) -> NoReturn:\n",
    "    \"\"\"Initialize random generators.\n",
    "\n",
    "    Parameters\n",
    "    ==========\n",
    "    random_state : int = 0\n",
    "        Determines random number generation for centroid initialization.\n",
    "        Use an int to make the randomness deterministic.\n",
    "    \"\"\"\n",
    "    torch.manual_seed(random_state)\n",
    "    random.seed(random_state)\n",
    "    np.random.seed(random_state)\n",
    "\n",
    "    if torch.cuda.is_available():\n",
    "        torch.cuda.manual_seed_all(random_state)\n",
    "        torch.cuda.manual_seed(random_state)\n",
    "\n",
    "        torch.backends.cudnn.deterministic = True\n",
    "        torch.backends.cudnn.benchmark = False\n",
    "    return\n",
    "\n",
    "random_state = 42\n",
    "set_random_state(random_state)\n",
    "torch.use_deterministic_algorithms(True)"
   ]
  },
  {
   "cell_type": "code",
   "execution_count": 4,
   "metadata": {
    "colab": {
     "base_uri": "https://localhost:8080/"
    },
    "id": "UpQBAcGegqa4",
    "outputId": "8979993f-363b-4cdc-8d59-88bc4a42ce9e"
   },
   "outputs": [
    {
     "name": "stdout",
     "output_type": "stream",
     "text": [
      "env: CUBLAS_WORKSPACE_CONFIG=:4096:8\n",
      "env: PYTHONHASHSEED=42\n"
     ]
    }
   ],
   "source": [
    "%env CUBLAS_WORKSPACE_CONFIG=:4096:8\n",
    "%env PYTHONHASHSEED=42"
   ]
  },
  {
   "cell_type": "code",
   "execution_count": 5,
   "metadata": {
    "id": "hjc50vuYgqp9"
   },
   "outputs": [],
   "source": [
    "# path\n",
    "data_path = \"./data/\"\n",
    "\n",
    "train_csv = data_path + \"train.csv\"\n",
    "train_pickle = data_path + \"train.pickle\"\n",
    "test_pickle = data_path + \"test.pickle\"\n",
    "labels_pickle = data_path + \"labels.pickle\""
   ]
  },
  {
   "cell_type": "code",
   "execution_count": 6,
   "metadata": {
    "id": "ZAWe8jt4g_Nk"
   },
   "outputs": [],
   "source": [
    "class SetType(Enum):\n",
    "    \"\"\"Set type\"\"\"\n",
    "    TRAIN = 1\n",
    "    TEST  = 2\n",
    "    DEV   = 3\n",
    "\n",
    "class EventDetectionDataset(Dataset):\n",
    "    def __init__(self, x, y=None, device=\"cpu\", set_type=SetType.TRAIN):\n",
    "        self.x = x\n",
    "        self.y = y\n",
    "        self.set_type = set_type\n",
    "        \n",
    "        stretch_factor = 0.85\n",
    "        mask_param = 20\n",
    "        self.transforms = nn.Sequential(\n",
    "            T.TimeStretch(stretch_factor, fixed_rate=True),\n",
    "            T.FrequencyMasking(freq_mask_param=mask_param),\n",
    "            T.TimeMasking(time_mask_param=mask_param)\n",
    "        )\n",
    "\n",
    "    def __len__(self):\n",
    "        return len(self.x)\n",
    "\n",
    "    def __getitem__(self, idx):\n",
    "        # добавить сюда prepare_shape()\n",
    "        # if self.set_type == SetType.TRAIN:\n",
    "        # x = prepare_shape(self.x[idx])\n",
    "        # else:\n",
    "        # x = self.x[idx]\n",
    "        x = self.x[idx]\n",
    "        if self.set_type == SetType.TRAIN:\n",
    "                x = self.transforms(x)\n",
    "        if self.y is not None:\n",
    "            x = torch.tensor(x, dtype=torch.float32, device=device).squeeze()\n",
    "            y = torch.tensor(self.y[idx], dtype=torch.int, device=device)\n",
    "            \n",
    "            return x, y\n",
    "\n",
    "        return torch.tensor(x, dtype=torch.float32, device=device).squeeze()"
   ]
  },
  {
   "cell_type": "code",
   "execution_count": 7,
   "metadata": {
    "colab": {
     "base_uri": "https://localhost:8080/"
    },
    "id": "I5zkkN_ahDUR",
    "outputId": "6f685f9a-ba3c-47db-f6e3-9522d321e87a"
   },
   "outputs": [
    {
     "name": "stdout",
     "output_type": "stream",
     "text": [
      "\n",
      "Train set:\n",
      "    x.shape: 4883\n",
      "    y.shape: 4883\n",
      "\n",
      "Validation set:\n",
      "    x.shape: 800\n",
      "    y.shape: 800\n",
      "    \n",
      "Test set:\n",
      "    x.shape: 3790\n",
      "    \n"
     ]
    }
   ],
   "source": [
    "train_data = pickle.load(open(train_pickle, \"rb\"))\n",
    "test_data = pickle.load(open(test_pickle, \"rb\"))\n",
    "\n",
    "label_to_id = pickle.load(open(labels_pickle, \"rb\"))\n",
    "id_to_label = [label for label, i in label_to_id.items()]\n",
    "\n",
    "validation_set_size = 800\n",
    "test_set_size = validation_set_size / len(train_data)\n",
    "\n",
    "\n",
    "x_, y_ = [], []\n",
    "for i, row in enumerate(train_data):\n",
    "    feature = row['feature']\n",
    "    x_.append(feature)\n",
    "    y_.append(row['label_id'])\n",
    "\n",
    "x_tr, x_val, y_tr, y_val = train_test_split(x_, y_, stratify=y_, test_size=test_set_size)\n",
    "\n",
    "print(f\"\"\"\n",
    "Train set:\n",
    "    x.shape: {len(x_tr)}\n",
    "    y.shape: {len(y_tr)}\n",
    "\n",
    "Validation set:\n",
    "    x.shape: {len(x_val)}\n",
    "    y.shape: {len(y_val)}\n",
    "    \n",
    "Test set:\n",
    "    x.shape: {len(test_data)}\n",
    "    \"\"\")\n",
    "\n",
    "train_dset = EventDetectionDataset(x_tr, y_tr, device=device, set_type=SetType.TRAIN)\n",
    "val_dset = EventDetectionDataset(x_val, y_val, device=device, set_type=SetType.TEST)"
   ]
  },
  {
   "cell_type": "code",
   "execution_count": 8,
   "metadata": {
    "id": "tds_Jf94smnT"
   },
   "outputs": [
    {
     "name": "stdout",
     "output_type": "stream",
     "text": [
      "0.0\n",
      "0.0\n"
     ]
    }
   ],
   "source": [
    "torch.cuda.empty_cache()\n",
    "print(torch.cuda.memory_allocated()/1024**2)\n",
    "print(torch.cuda.memory_cached()/1024**2)"
   ]
  },
  {
   "cell_type": "code",
   "execution_count": 9,
   "metadata": {},
   "outputs": [],
   "source": [
    "# a = torch.zeros(300000000, dtype=torch.int8)\n",
    "# a = a.cuda()\n",
    "# del a\n",
    "# torch.cuda.empty_cache()"
   ]
  },
  {
   "cell_type": "code",
   "execution_count": 10,
   "metadata": {
    "id": "dy-0WfA5greA"
   },
   "outputs": [],
   "source": [
    "train_loader = DataLoader(train_dset, batch_size=32, shuffle=True, num_workers=num_workers, drop_last=True)\n",
    "val_loader = DataLoader(val_dset, batch_size=32, shuffle=False, num_workers=num_workers, drop_last=True)"
   ]
  },
  {
   "cell_type": "code",
   "execution_count": 11,
   "metadata": {
    "colab": {
     "base_uri": "https://localhost:8080/"
    },
    "id": "BA3vNRcghWvF",
    "outputId": "313325f4-d814-4e55-baff-841f718b5fe2"
   },
   "outputs": [
    {
     "data": {
      "text/plain": [
       "(26, 'Laughter')"
      ]
     },
     "execution_count": 11,
     "metadata": {},
     "output_type": "execute_result"
    }
   ],
   "source": [
    "set_random_state(random_state)\n",
    "\n",
    "sample_x, sample_y = random.choice(val_dset)\n",
    "\n",
    "sample_y.item(), id_to_label[sample_y]"
   ]
  },
  {
   "cell_type": "code",
   "execution_count": 12,
   "metadata": {
    "colab": {
     "base_uri": "https://localhost:8080/"
    },
    "id": "OCWalQIxhZQe",
    "outputId": "eba29121-3aac-42fa-de73-6b89a7786226"
   },
   "outputs": [
    {
     "data": {
      "text/plain": [
       "(12, 'Double_bass')"
      ]
     },
     "execution_count": 12,
     "metadata": {},
     "output_type": "execute_result"
    }
   ],
   "source": [
    "set_random_state(random_state)\n",
    "\n",
    "sample_x, sample_y = random.choice(train_dset)\n",
    "sample_y.item(), id_to_label[sample_y]"
   ]
  },
  {
   "cell_type": "code",
   "execution_count": 22,
   "metadata": {
    "colab": {
     "base_uri": "https://localhost:8080/",
     "height": 865,
     "referenced_widgets": [
      "720493f907014139ae02d9a4867488ad",
      "62a828ff73a54574a71df15bc63079d4",
      "3e80fbe072e84e05991b83a78340ea49",
      "9f08931f4b5945dbac2fffd26672567a",
      "9900c40e644e4b1f9aa2fbf575255b0b",
      "e9e4fcca326b465f8c5b357741b61086",
      "cd8582d74c4b43d9b77a37a0b1f37ab7",
      "b237d85c7ecb49ea8f82dae598beca8e",
      "576d833d2461464087b8cb2035b8fb73",
      "7de99ff658ff4b70b71e1d926e197c2f",
      "924adba37e6c41a9a6918b23b17ca01a",
      "b15b7306794a4899b1d886e98203265a",
      "0464574a102b46ae987a0351ec5627c2",
      "5a882d44858949f6bf792e65a1c9a26c",
      "ef9d8f5543924688b0699c2012ff170f",
      "53b2e8c06ddf416d9efeeb9f24deb4f0",
      "08d7bf2865a1463f8541d957243ab19e",
      "ec7c2cf30a5a4535af4325aa8270a184",
      "7c45e783b8e046b28f2d0afb20d06744",
      "0f7ad9b5e5714b79808af26683eed5bf",
      "8cdb1dfc15eb4f15a5b891c60270044d",
      "6dc8e924c0754cd0a70bfd5abff53630"
     ]
    },
    "id": "V2yl6rainWBZ",
    "outputId": "f7ecf5a8-4bad-4a6a-add5-fcb9e629a43e"
   },
   "outputs": [
    {
     "data": {
      "text/plain": [
       "ASTForAudioClassification(\n",
       "  (audio_spectrogram_transformer): ASTModel(\n",
       "    (embeddings): ASTEmbeddings(\n",
       "      (patch_embeddings): ASTPatchEmbeddings(\n",
       "        (projection): Conv2d(1, 768, kernel_size=(16, 16), stride=(10, 10))\n",
       "      )\n",
       "      (dropout): Dropout(p=0.0, inplace=False)\n",
       "    )\n",
       "    (encoder): ASTEncoder(\n",
       "      (layer): ModuleList(\n",
       "        (0-11): 12 x ASTLayer(\n",
       "          (attention): ASTAttention(\n",
       "            (attention): ASTSelfAttention(\n",
       "              (query): Linear(in_features=768, out_features=768, bias=True)\n",
       "              (key): Linear(in_features=768, out_features=768, bias=True)\n",
       "              (value): Linear(in_features=768, out_features=768, bias=True)\n",
       "              (dropout): Dropout(p=0.0, inplace=False)\n",
       "            )\n",
       "            (output): ASTSelfOutput(\n",
       "              (dense): Linear(in_features=768, out_features=768, bias=True)\n",
       "              (dropout): Dropout(p=0.0, inplace=False)\n",
       "            )\n",
       "          )\n",
       "          (intermediate): ASTIntermediate(\n",
       "            (dense): Linear(in_features=768, out_features=3072, bias=True)\n",
       "            (intermediate_act_fn): GELUActivation()\n",
       "          )\n",
       "          (output): ASTOutput(\n",
       "            (dense): Linear(in_features=3072, out_features=768, bias=True)\n",
       "            (dropout): Dropout(p=0.0, inplace=False)\n",
       "          )\n",
       "          (layernorm_before): LayerNorm((768,), eps=1e-12, elementwise_affine=True)\n",
       "          (layernorm_after): LayerNorm((768,), eps=1e-12, elementwise_affine=True)\n",
       "        )\n",
       "      )\n",
       "    )\n",
       "    (layernorm): LayerNorm((768,), eps=1e-12, elementwise_affine=True)\n",
       "  )\n",
       "  (classifier): ASTMLPHead(\n",
       "    (layernorm): LayerNorm((768,), eps=1e-12, elementwise_affine=True)\n",
       "    (dense): Linear(in_features=768, out_features=527, bias=True)\n",
       "  )\n",
       ")"
      ]
     },
     "execution_count": 22,
     "metadata": {},
     "output_type": "execute_result"
    }
   ],
   "source": [
    "AutoModelForAudioClassification.from_pretrained(\"./ast-finetuned-audioset-10-10-0.448\", local_files_only=True) # ast-finetuned-audioset-10-10-0.448\n",
    "#AutoModelForAudioClassification.from_pretrained(\"ast-finetuned-audioset-10-10-0.448\")"
   ]
  },
  {
   "cell_type": "code",
   "execution_count": 23,
   "metadata": {
    "colab": {
     "base_uri": "https://localhost:8080/"
    },
    "id": "5xgV_jbJg2KN",
    "outputId": "0f39e2c9-ebb4-4631-b13b-d449e1547efd"
   },
   "outputs": [
    {
     "name": "stderr",
     "output_type": "stream",
     "text": [
      "Some weights of ASTForAudioClassification were not initialized from the model checkpoint at ./ast-finetuned-audioset-10-10-0.448 and are newly initialized because the shapes did not match:\n",
      "- classifier.dense.weight: found shape torch.Size([527, 768]) in the checkpoint and torch.Size([41, 768]) in the model instantiated\n",
      "- classifier.dense.bias: found shape torch.Size([527]) in the checkpoint and torch.Size([41]) in the model instantiated\n",
      "You should probably TRAIN this model on a down-stream task to be able to use it for predictions and inference.\n"
     ]
    }
   ],
   "source": [
    "model = AutoModelForAudioClassification.from_pretrained(\"./ast-finetuned-audioset-10-10-0.448\", \n",
    "                                                        num_labels=len(id_to_label), \n",
    "                                                        ignore_mismatched_sizes=True)\n",
    "model.config.id2label = id_to_label\n",
    "model.config.label2id = label_to_id\n",
    "model.config._num_labels = len(id_to_label)\n",
    "model.config.num_labels = len(id_to_label)\n",
    "model.requires_grad_(False)\n",
    "#model.classifier = nn.Linear(in_features=768, \n",
    "#                             out_features=len(id_to_label), bias=True)\n",
    "\n",
    "# model.classifier = nn.Sequential(\n",
    "#            nn.Linear(in_features=768, \n",
    "#                              out_features=256, bias=True),\n",
    "#            nn.Linear(in_features=256, \n",
    "#                              out_features=len(id_to_label), bias=True)\n",
    "\n",
    "# )\n",
    "\n",
    "model.classifier = nn.Sequential(\n",
    "          nn.Unflatten(1, (768, 1)),\n",
    "          nn.Conv1d(768, 100, 2, padding=1), # 767\n",
    "          nn.ReLU(),\n",
    "          nn.Conv1d(100, 64, 2, padding=1), # 766\n",
    "          nn.ReLU(),\n",
    "          nn.Flatten(),\n",
    "          nn.Linear(in_features=192, out_features=len(id_to_label), bias=True)\n",
    "        )\n",
    "model.classifier.requires_grad_(True)\n",
    "model.to(device)\n",
    "\n",
    "optimizer = torch.optim.AdamW(model.parameters(), lr=5e-5)"
   ]
  },
  {
   "cell_type": "code",
   "execution_count": 24,
   "metadata": {
    "colab": {
     "base_uri": "https://localhost:8080/"
    },
    "id": "GqOnYdScyLFF",
    "outputId": "218a09ab-4b9d-44a5-83bf-38c424a74213"
   },
   "outputs": [
    {
     "data": {
      "text/plain": [
       "Sequential(\n",
       "  (0): Unflatten(dim=1, unflattened_size=(768, 1))\n",
       "  (1): Conv1d(768, 100, kernel_size=(2,), stride=(1,), padding=(1,))\n",
       "  (2): ReLU()\n",
       "  (3): Conv1d(100, 64, kernel_size=(2,), stride=(1,), padding=(1,))\n",
       "  (4): ReLU()\n",
       "  (5): Flatten(start_dim=1, end_dim=-1)\n",
       "  (6): Linear(in_features=192, out_features=41, bias=True)\n",
       ")"
      ]
     },
     "execution_count": 24,
     "metadata": {},
     "output_type": "execute_result"
    }
   ],
   "source": [
    "model.classifier"
   ]
  },
  {
   "cell_type": "code",
   "execution_count": 25,
   "metadata": {
    "colab": {
     "base_uri": "https://localhost:8080/"
    },
    "id": "hx-xvv7p8eQk",
    "outputId": "b7c1e407-44b0-4824-d9c8-f9ded5bb8737"
   },
   "outputs": [
    {
     "data": {
      "text/plain": [
       "(41, 41)"
      ]
     },
     "execution_count": 25,
     "metadata": {},
     "output_type": "execute_result"
    }
   ],
   "source": [
    "model.num_labels, len(id_to_label)"
   ]
  },
  {
   "cell_type": "code",
   "execution_count": 26,
   "metadata": {
    "colab": {
     "base_uri": "https://localhost:8080/"
    },
    "id": "IDPKlDLQyDHn",
    "outputId": "045eca50-2e3f-40ae-cab0-a45fd4c4c6dd"
   },
   "outputs": [
    {
     "data": {
      "text/plain": [
       "ASTConfig {\n",
       "  \"_name_or_path\": \"./ast-finetuned-audioset-10-10-0.448\",\n",
       "  \"_num_labels\": 41,\n",
       "  \"architectures\": [\n",
       "    \"ASTForAudioClassification\"\n",
       "  ],\n",
       "  \"attention_probs_dropout_prob\": 0.0,\n",
       "  \"frequency_stride\": 10,\n",
       "  \"hidden_act\": \"gelu\",\n",
       "  \"hidden_dropout_prob\": 0.0,\n",
       "  \"hidden_size\": 768,\n",
       "  \"id2label\": [\n",
       "    \"Acoustic_guitar\",\n",
       "    \"Applause\",\n",
       "    \"Bark\",\n",
       "    \"Bass_drum\",\n",
       "    \"Burping_or_eructation\",\n",
       "    \"Bus\",\n",
       "    \"Cello\",\n",
       "    \"Chime\",\n",
       "    \"Clarinet\",\n",
       "    \"Computer_keyboard\",\n",
       "    \"Cough\",\n",
       "    \"Cowbell\",\n",
       "    \"Double_bass\",\n",
       "    \"Drawer_open_or_close\",\n",
       "    \"Electric_piano\",\n",
       "    \"Fart\",\n",
       "    \"Finger_snapping\",\n",
       "    \"Fireworks\",\n",
       "    \"Flute\",\n",
       "    \"Glockenspiel\",\n",
       "    \"Gong\",\n",
       "    \"Gunshot_or_gunfire\",\n",
       "    \"Harmonica\",\n",
       "    \"Hi-hat\",\n",
       "    \"Keys_jangling\",\n",
       "    \"Knock\",\n",
       "    \"Laughter\",\n",
       "    \"Meow\",\n",
       "    \"Microwave_oven\",\n",
       "    \"Oboe\",\n",
       "    \"Saxophone\",\n",
       "    \"Scissors\",\n",
       "    \"Shatter\",\n",
       "    \"Snare_drum\",\n",
       "    \"Squeak\",\n",
       "    \"Tambourine\",\n",
       "    \"Tearing\",\n",
       "    \"Telephone\",\n",
       "    \"Trumpet\",\n",
       "    \"Violin_or_fiddle\",\n",
       "    \"Writing\"\n",
       "  ],\n",
       "  \"initializer_range\": 0.02,\n",
       "  \"intermediate_size\": 3072,\n",
       "  \"label2id\": {\n",
       "    \"Acoustic_guitar\": 0,\n",
       "    \"Applause\": 1,\n",
       "    \"Bark\": 2,\n",
       "    \"Bass_drum\": 3,\n",
       "    \"Burping_or_eructation\": 4,\n",
       "    \"Bus\": 5,\n",
       "    \"Cello\": 6,\n",
       "    \"Chime\": 7,\n",
       "    \"Clarinet\": 8,\n",
       "    \"Computer_keyboard\": 9,\n",
       "    \"Cough\": 10,\n",
       "    \"Cowbell\": 11,\n",
       "    \"Double_bass\": 12,\n",
       "    \"Drawer_open_or_close\": 13,\n",
       "    \"Electric_piano\": 14,\n",
       "    \"Fart\": 15,\n",
       "    \"Finger_snapping\": 16,\n",
       "    \"Fireworks\": 17,\n",
       "    \"Flute\": 18,\n",
       "    \"Glockenspiel\": 19,\n",
       "    \"Gong\": 20,\n",
       "    \"Gunshot_or_gunfire\": 21,\n",
       "    \"Harmonica\": 22,\n",
       "    \"Hi-hat\": 23,\n",
       "    \"Keys_jangling\": 24,\n",
       "    \"Knock\": 25,\n",
       "    \"Laughter\": 26,\n",
       "    \"Meow\": 27,\n",
       "    \"Microwave_oven\": 28,\n",
       "    \"Oboe\": 29,\n",
       "    \"Saxophone\": 30,\n",
       "    \"Scissors\": 31,\n",
       "    \"Shatter\": 32,\n",
       "    \"Snare_drum\": 33,\n",
       "    \"Squeak\": 34,\n",
       "    \"Tambourine\": 35,\n",
       "    \"Tearing\": 36,\n",
       "    \"Telephone\": 37,\n",
       "    \"Trumpet\": 38,\n",
       "    \"Violin_or_fiddle\": 39,\n",
       "    \"Writing\": 40\n",
       "  },\n",
       "  \"layer_norm_eps\": 1e-12,\n",
       "  \"max_length\": 1024,\n",
       "  \"model_type\": \"audio-spectrogram-transformer\",\n",
       "  \"num_attention_heads\": 12,\n",
       "  \"num_hidden_layers\": 12,\n",
       "  \"num_mel_bins\": 128,\n",
       "  \"patch_size\": 16,\n",
       "  \"qkv_bias\": true,\n",
       "  \"time_stride\": 10,\n",
       "  \"torch_dtype\": \"float32\",\n",
       "  \"transformers_version\": \"4.30.1\"\n",
       "}"
      ]
     },
     "execution_count": 26,
     "metadata": {},
     "output_type": "execute_result"
    }
   ],
   "source": [
    "model.config"
   ]
  },
  {
   "cell_type": "code",
   "execution_count": 27,
   "metadata": {},
   "outputs": [],
   "source": [
    "def save_model(model_to_save, id_to_label):\n",
    "    {id: label for id, label in enumerate(id_to_label)}\n",
    "    model_to_save.config.id2label = {id: label for id, label in enumerate(id_to_label)}\n",
    "    model_to_save.save_pretrained(\"model_weights\", from_pt=True)\n",
    "    torch.save(model.state_dict(), 'model_weights.pth')"
   ]
  },
  {
   "cell_type": "code",
   "execution_count": null,
   "metadata": {
    "colab": {
     "base_uri": "https://localhost:8080/",
     "height": 1000
    },
    "id": "-r-NWsrlf_Xa",
    "outputId": "b64ac9b1-caa5-416e-e596-723649e59c6e"
   },
   "outputs": [
    {
     "name": "stdout",
     "output_type": "stream",
     "text": [
      "epoch #1\n",
      "[train] mean loss: 3.5537196068387282\n",
      "[train] f1-score:  0.18508315112972148\n",
      "[val] mean loss:   3.275740833282471\n",
      "[val] f1-score:    0.3185877375992303\n",
      "\n",
      "epoch #2\n",
      "[train] mean loss: 2.8197697683384546\n",
      "[train] f1-score:  0.40950181672107466\n",
      "[val] mean loss:   2.3814649772644043\n",
      "[val] f1-score:    0.5125938015557234\n",
      "\n",
      "epoch #3\n",
      "[train] mean loss: 2.006666502670238\n",
      "[train] f1-score:  0.5633134603494164\n",
      "[val] mean loss:   1.7169321775436401\n",
      "[val] f1-score:    0.6060437652388017\n",
      "\n",
      "epoch #4\n",
      "[train] mean loss: 1.4894963659738238\n",
      "[train] f1-score:  0.6798607380999487\n",
      "[val] mean loss:   1.3404071354866027\n",
      "[val] f1-score:    0.7102366822594969\n",
      "\n",
      "epoch #5\n",
      "[train] mean loss: 1.1981352885302745\n",
      "[train] f1-score:  0.7453050211147068\n",
      "[val] mean loss:   1.1217850065231323\n",
      "[val] f1-score:    0.7553023409808294\n",
      "\n",
      "epoch #6\n",
      "[train] mean loss: 1.0179102005142915\n",
      "[train] f1-score:  0.7749053782923897\n",
      "[val] mean loss:   0.999800353050232\n",
      "[val] f1-score:    0.7686941670042582\n",
      "\n",
      "epoch #7\n",
      "[train] mean loss: 0.9020491397302401\n",
      "[train] f1-score:  0.7903665463617304\n",
      "[val] mean loss:   0.9103146648406982\n",
      "[val] f1-score:    0.76852590984469\n",
      "\n",
      "epoch #8\n",
      "[train] mean loss: 0.8264865418405909\n",
      "[train] f1-score:  0.8011860620440621\n",
      "[val] mean loss:   0.8540013456344604\n",
      "[val] f1-score:    0.7805423713215173\n",
      "\n",
      "epoch #9\n",
      "[train] mean loss: 0.765878432479344\n",
      "[train] f1-score:  0.8095840485857293\n",
      "[val] mean loss:   0.8141457557678222\n",
      "[val] f1-score:    0.7891831004832512\n",
      "\n",
      "epoch #10\n",
      "[train] mean loss: 0.7139104641973972\n",
      "[train] f1-score:  0.8185971408256811\n",
      "[val] mean loss:   0.779109343290329\n",
      "[val] f1-score:    0.7873216115242898\n",
      "\n",
      "epoch #11\n",
      "[train] mean loss: 0.6811153320105452\n",
      "[train] f1-score:  0.8194107253550259\n",
      "[val] mean loss:   0.756071697473526\n",
      "[val] f1-score:    0.8037200430196099\n",
      "\n",
      "epoch #12\n",
      "[train] mean loss: 0.6509320183019889\n",
      "[train] f1-score:  0.8321836861099964\n",
      "[val] mean loss:   0.7298833346366882\n",
      "[val] f1-score:    0.7982196856605455\n",
      "\n",
      "epoch #13\n",
      "[train] mean loss: 0.6192037063209634\n",
      "[train] f1-score:  0.8352592938224062\n",
      "[val] mean loss:   0.7129555869102479\n",
      "[val] f1-score:    0.8094017025458585\n",
      "\n",
      "epoch #14\n",
      "[train] mean loss: 0.592450488554804\n",
      "[train] f1-score:  0.8416794253646804\n",
      "[val] mean loss:   0.700036712884903\n",
      "[val] f1-score:    0.8095522478707703\n",
      "\n",
      "epoch #15\n",
      "[train] mean loss: 0.5723245309567765\n",
      "[train] f1-score:  0.8493000098155885\n",
      "[val] mean loss:   0.6863945209980011\n",
      "[val] f1-score:    0.8037372080732278\n",
      "\n",
      "epoch #16\n",
      "[train] mean loss: 0.5548200626906595\n",
      "[train] f1-score:  0.8517897593370393\n",
      "[val] mean loss:   0.6775079691410064\n",
      "[val] f1-score:    0.8035577538479136\n",
      "\n",
      "epoch #17\n",
      "[train] mean loss: 0.5301208319632631\n",
      "[train] f1-score:  0.8556943608370018\n",
      "[val] mean loss:   0.6710056412220001\n",
      "[val] f1-score:    0.8101437755139236\n",
      "\n",
      "epoch #18\n",
      "[train] mean loss: 0.5221760876868901\n",
      "[train] f1-score:  0.8560225878472912\n",
      "[val] mean loss:   0.665237500667572\n",
      "[val] f1-score:    0.8156451720392451\n",
      "\n",
      "epoch #19\n",
      "[train] mean loss: 0.5005488730967045\n",
      "[train] f1-score:  0.8666283267398995\n",
      "[val] mean loss:   0.6502880775928497\n",
      "[val] f1-score:    0.8237199466996857\n",
      "\n",
      "epoch #20\n",
      "[train] mean loss: 0.4863705469393416\n",
      "[train] f1-score:  0.8699149399133703\n",
      "[val] mean loss:   0.6488641571998596\n",
      "[val] f1-score:    0.8264315543279314\n",
      "\n",
      "epoch #21\n",
      "[train] mean loss: 0.47044479494032104\n",
      "[train] f1-score:  0.8729615844171449\n",
      "[val] mean loss:   0.6408401703834534\n",
      "[val] f1-score:    0.8288622332201576\n",
      "\n",
      "epoch #22\n",
      "[train] mean loss: 0.45709967745566055\n",
      "[train] f1-score:  0.8755524238236314\n",
      "[val] mean loss:   0.6344129252433777\n",
      "[val] f1-score:    0.827587508865558\n",
      "\n",
      "epoch #23\n",
      "[train] mean loss: 0.44519421713132606\n",
      "[train] f1-score:  0.8761640171249488\n",
      "[val] mean loss:   0.6273444259166717\n",
      "[val] f1-score:    0.8242604380404883\n",
      "\n",
      "epoch #24\n",
      "[train] mean loss: 0.42514884177791445\n",
      "[train] f1-score:  0.8863267656690449\n",
      "[val] mean loss:   0.621335688829422\n",
      "[val] f1-score:    0.8279252333486409\n",
      "\n",
      "epoch #25\n",
      "[train] mean loss: 0.41759635111022936\n",
      "[train] f1-score:  0.8871794573082098\n",
      "[val] mean loss:   0.6176142776012421\n",
      "[val] f1-score:    0.8304371756590563\n",
      "\n",
      "epoch #26\n",
      "[train] mean loss: 0.4038814992496842\n",
      "[train] f1-score:  0.8883332507120257\n",
      "[val] mean loss:   0.6132590389251709\n",
      "[val] f1-score:    0.8298989874618882\n",
      "\n",
      "epoch #27\n",
      "[train] mean loss: 0.39723023027181625\n",
      "[train] f1-score:  0.890809830533209\n",
      "[val] mean loss:   0.6106339824199677\n",
      "[val] f1-score:    0.8348619253108606\n",
      "\n",
      "epoch #28\n",
      "[train] mean loss: 0.38579683226386186\n",
      "[train] f1-score:  0.8934573090208626\n",
      "[val] mean loss:   0.6102657401561737\n",
      "[val] f1-score:    0.8363620655012146\n",
      "\n",
      "epoch #29\n",
      "[train] mean loss: 0.37597741980693844\n",
      "[train] f1-score:  0.9012963894717937\n",
      "[val] mean loss:   0.6027362024784089\n",
      "[val] f1-score:    0.8353036816699984\n",
      "\n",
      "epoch #30\n",
      "[train] mean loss: 0.3694809367880225\n",
      "[train] f1-score:  0.8978402402295662\n",
      "[val] mean loss:   0.6060365724563599\n",
      "[val] f1-score:    0.8472008796053889\n",
      "\n",
      "epoch #31\n",
      "[train] mean loss: 0.3605160705843254\n",
      "[train] f1-score:  0.8967478463325873\n",
      "[val] mean loss:   0.6022377824783325\n",
      "[val] f1-score:    0.8386594699271431\n",
      "\n",
      "epoch #32\n",
      "[train] mean loss: 0.3482562806457281\n",
      "[train] f1-score:  0.9053026185326776\n",
      "[val] mean loss:   0.5969637286663055\n",
      "[val] f1-score:    0.8328700435944458\n",
      "\n",
      "epoch #33\n",
      "[train] mean loss: 0.33730648443298905\n",
      "[train] f1-score:  0.9041715247384885\n",
      "[val] mean loss:   0.591678991317749\n",
      "[val] f1-score:    0.843102515736515\n",
      "\n",
      "epoch #34\n",
      "[train] mean loss: 0.33466467491694185\n",
      "[train] f1-score:  0.9085519970929857\n",
      "[val] mean loss:   0.5912157607078552\n",
      "[val] f1-score:    0.8378717608573204\n",
      "\n",
      "epoch #35\n",
      "[train] mean loss: 0.3206198245384975\n",
      "[train] f1-score:  0.9119415147200938\n",
      "[val] mean loss:   0.588608969449997\n",
      "[val] f1-score:    0.8376023026026779\n",
      "\n",
      "epoch #36\n",
      "[train] mean loss: 0.31878632900158044\n",
      "[train] f1-score:  0.9095777591266261\n",
      "[val] mean loss:   0.594318585395813\n",
      "[val] f1-score:    0.8435594314939341\n",
      "\n",
      "epoch #37\n",
      "[train] mean loss: 0.3139399800351576\n",
      "[train] f1-score:  0.9165718061339937\n",
      "[val] mean loss:   0.5887793630361557\n",
      "[val] f1-score:    0.8402717922438918\n",
      "\n",
      "epoch #38\n",
      "[train] mean loss: 0.30120190311419337\n",
      "[train] f1-score:  0.9173203991416033\n",
      "[val] mean loss:   0.5850942313671113\n",
      "[val] f1-score:    0.8416692240029567\n",
      "\n",
      "epoch #39\n",
      "[train] mean loss: 0.2922975507221724\n",
      "[train] f1-score:  0.9223497872425864\n",
      "[val] mean loss:   0.5908899199962616\n",
      "[val] f1-score:    0.8471773886918815\n",
      "\n",
      "epoch #40\n",
      "[train] mean loss: 0.2868662190770632\n",
      "[train] f1-score:  0.9249924701413998\n",
      "[val] mean loss:   0.5818916320800781\n",
      "[val] f1-score:    0.8452303496825541\n",
      "\n",
      "epoch #41\n",
      "[train] mean loss: 0.2859104140416572\n",
      "[train] f1-score:  0.9264591360657166\n",
      "[val] mean loss:   0.5887610447406769\n",
      "[val] f1-score:    0.8455055588495627\n",
      "\n",
      "epoch #42\n",
      "[train] mean loss: 0.2739580384406604\n",
      "[train] f1-score:  0.9266527430133313\n",
      "[val] mean loss:   0.5790954703092575\n",
      "[val] f1-score:    0.8443012602402407\n",
      "\n",
      "epoch #43\n",
      "[train] mean loss: 0.27070659261785057\n",
      "[train] f1-score:  0.9296167607376018\n",
      "[val] mean loss:   0.5835147780179978\n",
      "[val] f1-score:    0.8463804252144139\n",
      "\n",
      "epoch #44\n",
      "[train] mean loss: 0.26121957786381245\n",
      "[train] f1-score:  0.9296320945309509\n",
      "[val] mean loss:   0.5798633092641831\n",
      "[val] f1-score:    0.8458629128460727\n",
      "\n",
      "epoch #45\n",
      "[train] mean loss: 0.2601192911204539\n",
      "[train] f1-score:  0.933321140379719\n",
      "[val] mean loss:   0.5779873538017273\n",
      "[val] f1-score:    0.8499014937875639\n",
      "\n",
      "epoch #46\n",
      "[train] mean loss: 0.24903276195063404\n",
      "[train] f1-score:  0.9331861349034758\n",
      "[val] mean loss:   0.5874045431613922\n",
      "[val] f1-score:    0.8410706376900196\n",
      "\n",
      "epoch #47\n"
     ]
    }
   ],
   "source": [
    "temp_f1 = -1\n",
    "\n",
    "start_time = time.time()\n",
    "\n",
    "epochs = 100\n",
    "train_loss = []\n",
    "val_loss = []\n",
    "train_f1 = []\n",
    "val_f1 = []\n",
    "\n",
    "for epoch in range(epochs):\n",
    "    \n",
    "    if epoch % 1 == 0:\n",
    "        print(f'epoch #{epoch+1}')\n",
    "    \n",
    "    model.train()\n",
    "    loss_list = []\n",
    "    outs = []\n",
    "    tgts = []\n",
    "    \n",
    "    for i_batch, sample_batched in enumerate(train_loader):\n",
    "        \n",
    "        inputs, labels = sample_batched\n",
    "        outputs = model(inputs, labels=labels.long())\n",
    "        loss = outputs.loss\n",
    "        loss_list.append(loss.item())\n",
    "        outs.append(outputs.logits.argmax(-1))\n",
    "        tgts.append(labels)\n",
    "        \n",
    "        loss.backward()\n",
    "        optimizer.step()\n",
    "        optimizer.zero_grad()\n",
    "    \n",
    "    y_true = torch.hstack(tgts).numpy(force=True)\n",
    "    y_pred = torch.hstack(outs).numpy(force=True)\n",
    "    f1 = f1_score(y_true, y_pred, average='weighted')\n",
    "    train_loss.append(np.mean(loss_list))\n",
    "    train_f1.append(f1)\n",
    "    if epoch % 1 == 0:\n",
    "        print(f'[train] mean loss: {train_loss[-1]}')\n",
    "        print(f'[train] f1-score:  {f1}')\n",
    "    \n",
    "    model.eval()\n",
    "    loss_list = []\n",
    "    outs = []\n",
    "    tgts = []\n",
    "    \n",
    "    with torch.no_grad():\n",
    "        for i_batch, sample_batched in enumerate(val_loader):\n",
    "            \n",
    "            inputs, labels = sample_batched\n",
    "            outputs = model(inputs, labels=labels.long())\n",
    "            loss = outputs.loss\n",
    "            loss_list.append(loss.item())\n",
    "            outs.append(outputs.logits.argmax(-1))\n",
    "            tgts.append(labels)\n",
    "        \n",
    "        y_true = torch.hstack(tgts).numpy(force=True)\n",
    "        y_pred = torch.hstack(outs).numpy(force=True)\n",
    "        f1 = f1_score(y_true, y_pred, average='weighted')\n",
    "        \n",
    "        if f1 > temp_f1:\n",
    "            save_model(model, id_to_label)\n",
    "            temp_f1 = f1\n",
    "        \n",
    "        val_loss.append(np.mean(loss_list))\n",
    "        val_f1.append(f1)\n",
    "        if epoch % 1 == 0:\n",
    "            print(f'[val] mean loss:   {val_loss[-1]}')\n",
    "            print(f'[val] f1-score:    {f1}', end=\"\\n\\n\")\n",
    "\n",
    "print(f\"Execution time: {(time.time() - start_time):.2f} seconds\")"
   ]
  },
  {
   "cell_type": "code",
   "execution_count": null,
   "metadata": {
    "id": "kmCVLy2PgGXy"
   },
   "outputs": [],
   "source": [
    "torch.save(model.state_dict(), 'model_weights.pth')"
   ]
  },
  {
   "cell_type": "code",
   "execution_count": null,
   "metadata": {
    "id": "dbwHHw8ejNME"
   },
   "outputs": [],
   "source": [
    "# model = AutoModelForAudioClassification() # we do not specify pretrained=True, i.e. do not load default weights\n",
    "# model.load_state_dict(torch.load('model_weights.pth'))\n",
    "# model.eval()"
   ]
  },
  {
   "cell_type": "code",
   "execution_count": 4,
   "metadata": {
    "colab": {
     "base_uri": "https://localhost:8080/"
    },
    "id": "n_gIM8T3nxFf",
    "outputId": "1d6d326a-b8fc-4632-c7c9-5a8e966cba4b"
   },
   "outputs": [],
   "source": [
    "###{id: label for id, label in enumerate(id_to_label)}"
   ]
  },
  {
   "cell_type": "code",
   "execution_count": null,
   "metadata": {
    "id": "NSZNhIr9mloj"
   },
   "outputs": [],
   "source": [
    "model.config.id2label = {id: label for id, label in enumerate(id_to_label)}\n",
    "model.save_pretrained(\"model_weights\", from_pt=True)\n",
    "# model = AutoModelForAudioClassification.from_pretrained(\"model_weights\")"
   ]
  },
  {
   "cell_type": "code",
   "execution_count": null,
   "metadata": {
    "colab": {
     "base_uri": "https://localhost:8080/"
    },
    "id": "5VS5VumTtVA0",
    "outputId": "43d57fb3-4fe6-4932-d1a6-b2bb165d0a01"
   },
   "outputs": [],
   "source": [
    "torch.cuda.empty_cache()\n",
    "inference = AutoModelForAudioClassification.from_pretrained(\"model_weights\")\n",
    "\n",
    "outputs_infer = []\n",
    "output_formated_infer = []\n",
    "\n",
    "x_test = []\n",
    "for i, row in enumerate(test_data):\n",
    "    feature = row['feature']\n",
    "    x_test.append(feature)\n",
    "test_dset = EventDetectionDataset(x_test, None, device=device, set_type=SetType.TEST)\n",
    "test_loader = DataLoader(test_dset, batch_size=8, shuffle=False, \n",
    "                         num_workers=num_workers, drop_last=False)\n"
   ]
  },
  {
   "cell_type": "code",
   "execution_count": null,
   "metadata": {
    "id": "HvLsi32XZ7nH"
   },
   "outputs": [],
   "source": [
    "inference.to(device)\n",
    "inference.eval()\n",
    "with torch.no_grad():\n",
    "  for i_batch, sample_batched in enumerate(test_loader):\n",
    "    x = sample_batched\n",
    "\n",
    "    output_infer = model(x)\n",
    "    outputs_infer.append(output_infer.logits.argmax(-1))\n",
    "  output_formated_infer = torch.hstack(outputs_infer).numpy(force=True)"
   ]
  },
  {
   "cell_type": "code",
   "execution_count": null,
   "metadata": {
    "colab": {
     "base_uri": "https://localhost:8080/"
    },
    "id": "NqMjDlQLZ8Kk",
    "outputId": "0e8e5d5e-d46d-494e-b84e-e922dd07fcb0"
   },
   "outputs": [],
   "source": [
    "labled_outs = [id_to_label[i] for i in output_formated_infer]\n",
    "print(labled_outs)"
   ]
  },
  {
   "cell_type": "code",
   "execution_count": null,
   "metadata": {
    "id": "gv8Wj0Agla6P"
   },
   "outputs": [],
   "source": [
    "fnames = []\n",
    "for datum in test_data:\n",
    "  fnames.append(datum['fname'])"
   ]
  },
  {
   "cell_type": "code",
   "execution_count": null,
   "metadata": {
    "id": "GDrlAHNQl_ZM"
   },
   "outputs": [],
   "source": []
  },
  {
   "cell_type": "code",
   "execution_count": null,
   "metadata": {
    "id": "KNudBPpPenIF"
   },
   "outputs": [],
   "source": [
    "pd.DataFrame({'fname': fnames, 'label': labled_outs}).to_csv('conv_predict_1.csv', index=False)"
   ]
  },
  {
   "cell_type": "code",
   "execution_count": null,
   "metadata": {
    "colab": {
     "base_uri": "https://localhost:8080/"
    },
    "id": "VajERU5ket4q",
    "outputId": "824c65c7-6fa0-4ce0-d672-e30fe0fdb801"
   },
   "outputs": [],
   "source": [
    "len(labled_outs)"
   ]
  },
  {
   "cell_type": "code",
   "execution_count": null,
   "metadata": {},
   "outputs": [],
   "source": []
  }
 ],
 "metadata": {
  "accelerator": "GPU",
  "colab": {
   "provenance": []
  },
  "gpuClass": "standard",
  "kernelspec": {
   "display_name": "torch3.9",
   "language": "python",
   "name": "torch3.9"
  },
  "language_info": {
   "codemirror_mode": {
    "name": "ipython",
    "version": 3
   },
   "file_extension": ".py",
   "mimetype": "text/x-python",
   "name": "python",
   "nbconvert_exporter": "python",
   "pygments_lexer": "ipython3",
   "version": "3.9.16"
  },
  "widgets": {
   "application/vnd.jupyter.widget-state+json": {
    "0464574a102b46ae987a0351ec5627c2": {
     "model_module": "@jupyter-widgets/controls",
     "model_module_version": "1.5.0",
     "model_name": "HTMLModel",
     "state": {
      "_dom_classes": [],
      "_model_module": "@jupyter-widgets/controls",
      "_model_module_version": "1.5.0",
      "_model_name": "HTMLModel",
      "_view_count": null,
      "_view_module": "@jupyter-widgets/controls",
      "_view_module_version": "1.5.0",
      "_view_name": "HTMLView",
      "description": "",
      "description_tooltip": null,
      "layout": "IPY_MODEL_08d7bf2865a1463f8541d957243ab19e",
      "placeholder": "​",
      "style": "IPY_MODEL_ec7c2cf30a5a4535af4325aa8270a184",
      "value": "Downloading pytorch_model.bin: 100%"
     }
    },
    "08d7bf2865a1463f8541d957243ab19e": {
     "model_module": "@jupyter-widgets/base",
     "model_module_version": "1.2.0",
     "model_name": "LayoutModel",
     "state": {
      "_model_module": "@jupyter-widgets/base",
      "_model_module_version": "1.2.0",
      "_model_name": "LayoutModel",
      "_view_count": null,
      "_view_module": "@jupyter-widgets/base",
      "_view_module_version": "1.2.0",
      "_view_name": "LayoutView",
      "align_content": null,
      "align_items": null,
      "align_self": null,
      "border": null,
      "bottom": null,
      "display": null,
      "flex": null,
      "flex_flow": null,
      "grid_area": null,
      "grid_auto_columns": null,
      "grid_auto_flow": null,
      "grid_auto_rows": null,
      "grid_column": null,
      "grid_gap": null,
      "grid_row": null,
      "grid_template_areas": null,
      "grid_template_columns": null,
      "grid_template_rows": null,
      "height": null,
      "justify_content": null,
      "justify_items": null,
      "left": null,
      "margin": null,
      "max_height": null,
      "max_width": null,
      "min_height": null,
      "min_width": null,
      "object_fit": null,
      "object_position": null,
      "order": null,
      "overflow": null,
      "overflow_x": null,
      "overflow_y": null,
      "padding": null,
      "right": null,
      "top": null,
      "visibility": null,
      "width": null
     }
    },
    "0f7ad9b5e5714b79808af26683eed5bf": {
     "model_module": "@jupyter-widgets/controls",
     "model_module_version": "1.5.0",
     "model_name": "ProgressStyleModel",
     "state": {
      "_model_module": "@jupyter-widgets/controls",
      "_model_module_version": "1.5.0",
      "_model_name": "ProgressStyleModel",
      "_view_count": null,
      "_view_module": "@jupyter-widgets/base",
      "_view_module_version": "1.2.0",
      "_view_name": "StyleView",
      "bar_color": null,
      "description_width": ""
     }
    },
    "3e80fbe072e84e05991b83a78340ea49": {
     "model_module": "@jupyter-widgets/controls",
     "model_module_version": "1.5.0",
     "model_name": "FloatProgressModel",
     "state": {
      "_dom_classes": [],
      "_model_module": "@jupyter-widgets/controls",
      "_model_module_version": "1.5.0",
      "_model_name": "FloatProgressModel",
      "_view_count": null,
      "_view_module": "@jupyter-widgets/controls",
      "_view_module_version": "1.5.0",
      "_view_name": "ProgressView",
      "bar_style": "success",
      "description": "",
      "description_tooltip": null,
      "layout": "IPY_MODEL_b237d85c7ecb49ea8f82dae598beca8e",
      "max": 26763,
      "min": 0,
      "orientation": "horizontal",
      "style": "IPY_MODEL_576d833d2461464087b8cb2035b8fb73",
      "value": 26763
     }
    },
    "53b2e8c06ddf416d9efeeb9f24deb4f0": {
     "model_module": "@jupyter-widgets/base",
     "model_module_version": "1.2.0",
     "model_name": "LayoutModel",
     "state": {
      "_model_module": "@jupyter-widgets/base",
      "_model_module_version": "1.2.0",
      "_model_name": "LayoutModel",
      "_view_count": null,
      "_view_module": "@jupyter-widgets/base",
      "_view_module_version": "1.2.0",
      "_view_name": "LayoutView",
      "align_content": null,
      "align_items": null,
      "align_self": null,
      "border": null,
      "bottom": null,
      "display": null,
      "flex": null,
      "flex_flow": null,
      "grid_area": null,
      "grid_auto_columns": null,
      "grid_auto_flow": null,
      "grid_auto_rows": null,
      "grid_column": null,
      "grid_gap": null,
      "grid_row": null,
      "grid_template_areas": null,
      "grid_template_columns": null,
      "grid_template_rows": null,
      "height": null,
      "justify_content": null,
      "justify_items": null,
      "left": null,
      "margin": null,
      "max_height": null,
      "max_width": null,
      "min_height": null,
      "min_width": null,
      "object_fit": null,
      "object_position": null,
      "order": null,
      "overflow": null,
      "overflow_x": null,
      "overflow_y": null,
      "padding": null,
      "right": null,
      "top": null,
      "visibility": null,
      "width": null
     }
    },
    "576d833d2461464087b8cb2035b8fb73": {
     "model_module": "@jupyter-widgets/controls",
     "model_module_version": "1.5.0",
     "model_name": "ProgressStyleModel",
     "state": {
      "_model_module": "@jupyter-widgets/controls",
      "_model_module_version": "1.5.0",
      "_model_name": "ProgressStyleModel",
      "_view_count": null,
      "_view_module": "@jupyter-widgets/base",
      "_view_module_version": "1.2.0",
      "_view_name": "StyleView",
      "bar_color": null,
      "description_width": ""
     }
    },
    "5a882d44858949f6bf792e65a1c9a26c": {
     "model_module": "@jupyter-widgets/controls",
     "model_module_version": "1.5.0",
     "model_name": "FloatProgressModel",
     "state": {
      "_dom_classes": [],
      "_model_module": "@jupyter-widgets/controls",
      "_model_module_version": "1.5.0",
      "_model_name": "FloatProgressModel",
      "_view_count": null,
      "_view_module": "@jupyter-widgets/controls",
      "_view_module_version": "1.5.0",
      "_view_name": "ProgressView",
      "bar_style": "success",
      "description": "",
      "description_tooltip": null,
      "layout": "IPY_MODEL_7c45e783b8e046b28f2d0afb20d06744",
      "max": 346445675,
      "min": 0,
      "orientation": "horizontal",
      "style": "IPY_MODEL_0f7ad9b5e5714b79808af26683eed5bf",
      "value": 346445675
     }
    },
    "62a828ff73a54574a71df15bc63079d4": {
     "model_module": "@jupyter-widgets/controls",
     "model_module_version": "1.5.0",
     "model_name": "HTMLModel",
     "state": {
      "_dom_classes": [],
      "_model_module": "@jupyter-widgets/controls",
      "_model_module_version": "1.5.0",
      "_model_name": "HTMLModel",
      "_view_count": null,
      "_view_module": "@jupyter-widgets/controls",
      "_view_module_version": "1.5.0",
      "_view_name": "HTMLView",
      "description": "",
      "description_tooltip": null,
      "layout": "IPY_MODEL_e9e4fcca326b465f8c5b357741b61086",
      "placeholder": "​",
      "style": "IPY_MODEL_cd8582d74c4b43d9b77a37a0b1f37ab7",
      "value": "Downloading (…)lve/main/config.json: 100%"
     }
    },
    "6dc8e924c0754cd0a70bfd5abff53630": {
     "model_module": "@jupyter-widgets/controls",
     "model_module_version": "1.5.0",
     "model_name": "DescriptionStyleModel",
     "state": {
      "_model_module": "@jupyter-widgets/controls",
      "_model_module_version": "1.5.0",
      "_model_name": "DescriptionStyleModel",
      "_view_count": null,
      "_view_module": "@jupyter-widgets/base",
      "_view_module_version": "1.2.0",
      "_view_name": "StyleView",
      "description_width": ""
     }
    },
    "720493f907014139ae02d9a4867488ad": {
     "model_module": "@jupyter-widgets/controls",
     "model_module_version": "1.5.0",
     "model_name": "HBoxModel",
     "state": {
      "_dom_classes": [],
      "_model_module": "@jupyter-widgets/controls",
      "_model_module_version": "1.5.0",
      "_model_name": "HBoxModel",
      "_view_count": null,
      "_view_module": "@jupyter-widgets/controls",
      "_view_module_version": "1.5.0",
      "_view_name": "HBoxView",
      "box_style": "",
      "children": [
       "IPY_MODEL_62a828ff73a54574a71df15bc63079d4",
       "IPY_MODEL_3e80fbe072e84e05991b83a78340ea49",
       "IPY_MODEL_9f08931f4b5945dbac2fffd26672567a"
      ],
      "layout": "IPY_MODEL_9900c40e644e4b1f9aa2fbf575255b0b"
     }
    },
    "7c45e783b8e046b28f2d0afb20d06744": {
     "model_module": "@jupyter-widgets/base",
     "model_module_version": "1.2.0",
     "model_name": "LayoutModel",
     "state": {
      "_model_module": "@jupyter-widgets/base",
      "_model_module_version": "1.2.0",
      "_model_name": "LayoutModel",
      "_view_count": null,
      "_view_module": "@jupyter-widgets/base",
      "_view_module_version": "1.2.0",
      "_view_name": "LayoutView",
      "align_content": null,
      "align_items": null,
      "align_self": null,
      "border": null,
      "bottom": null,
      "display": null,
      "flex": null,
      "flex_flow": null,
      "grid_area": null,
      "grid_auto_columns": null,
      "grid_auto_flow": null,
      "grid_auto_rows": null,
      "grid_column": null,
      "grid_gap": null,
      "grid_row": null,
      "grid_template_areas": null,
      "grid_template_columns": null,
      "grid_template_rows": null,
      "height": null,
      "justify_content": null,
      "justify_items": null,
      "left": null,
      "margin": null,
      "max_height": null,
      "max_width": null,
      "min_height": null,
      "min_width": null,
      "object_fit": null,
      "object_position": null,
      "order": null,
      "overflow": null,
      "overflow_x": null,
      "overflow_y": null,
      "padding": null,
      "right": null,
      "top": null,
      "visibility": null,
      "width": null
     }
    },
    "7de99ff658ff4b70b71e1d926e197c2f": {
     "model_module": "@jupyter-widgets/base",
     "model_module_version": "1.2.0",
     "model_name": "LayoutModel",
     "state": {
      "_model_module": "@jupyter-widgets/base",
      "_model_module_version": "1.2.0",
      "_model_name": "LayoutModel",
      "_view_count": null,
      "_view_module": "@jupyter-widgets/base",
      "_view_module_version": "1.2.0",
      "_view_name": "LayoutView",
      "align_content": null,
      "align_items": null,
      "align_self": null,
      "border": null,
      "bottom": null,
      "display": null,
      "flex": null,
      "flex_flow": null,
      "grid_area": null,
      "grid_auto_columns": null,
      "grid_auto_flow": null,
      "grid_auto_rows": null,
      "grid_column": null,
      "grid_gap": null,
      "grid_row": null,
      "grid_template_areas": null,
      "grid_template_columns": null,
      "grid_template_rows": null,
      "height": null,
      "justify_content": null,
      "justify_items": null,
      "left": null,
      "margin": null,
      "max_height": null,
      "max_width": null,
      "min_height": null,
      "min_width": null,
      "object_fit": null,
      "object_position": null,
      "order": null,
      "overflow": null,
      "overflow_x": null,
      "overflow_y": null,
      "padding": null,
      "right": null,
      "top": null,
      "visibility": null,
      "width": null
     }
    },
    "8cdb1dfc15eb4f15a5b891c60270044d": {
     "model_module": "@jupyter-widgets/base",
     "model_module_version": "1.2.0",
     "model_name": "LayoutModel",
     "state": {
      "_model_module": "@jupyter-widgets/base",
      "_model_module_version": "1.2.0",
      "_model_name": "LayoutModel",
      "_view_count": null,
      "_view_module": "@jupyter-widgets/base",
      "_view_module_version": "1.2.0",
      "_view_name": "LayoutView",
      "align_content": null,
      "align_items": null,
      "align_self": null,
      "border": null,
      "bottom": null,
      "display": null,
      "flex": null,
      "flex_flow": null,
      "grid_area": null,
      "grid_auto_columns": null,
      "grid_auto_flow": null,
      "grid_auto_rows": null,
      "grid_column": null,
      "grid_gap": null,
      "grid_row": null,
      "grid_template_areas": null,
      "grid_template_columns": null,
      "grid_template_rows": null,
      "height": null,
      "justify_content": null,
      "justify_items": null,
      "left": null,
      "margin": null,
      "max_height": null,
      "max_width": null,
      "min_height": null,
      "min_width": null,
      "object_fit": null,
      "object_position": null,
      "order": null,
      "overflow": null,
      "overflow_x": null,
      "overflow_y": null,
      "padding": null,
      "right": null,
      "top": null,
      "visibility": null,
      "width": null
     }
    },
    "924adba37e6c41a9a6918b23b17ca01a": {
     "model_module": "@jupyter-widgets/controls",
     "model_module_version": "1.5.0",
     "model_name": "DescriptionStyleModel",
     "state": {
      "_model_module": "@jupyter-widgets/controls",
      "_model_module_version": "1.5.0",
      "_model_name": "DescriptionStyleModel",
      "_view_count": null,
      "_view_module": "@jupyter-widgets/base",
      "_view_module_version": "1.2.0",
      "_view_name": "StyleView",
      "description_width": ""
     }
    },
    "9900c40e644e4b1f9aa2fbf575255b0b": {
     "model_module": "@jupyter-widgets/base",
     "model_module_version": "1.2.0",
     "model_name": "LayoutModel",
     "state": {
      "_model_module": "@jupyter-widgets/base",
      "_model_module_version": "1.2.0",
      "_model_name": "LayoutModel",
      "_view_count": null,
      "_view_module": "@jupyter-widgets/base",
      "_view_module_version": "1.2.0",
      "_view_name": "LayoutView",
      "align_content": null,
      "align_items": null,
      "align_self": null,
      "border": null,
      "bottom": null,
      "display": null,
      "flex": null,
      "flex_flow": null,
      "grid_area": null,
      "grid_auto_columns": null,
      "grid_auto_flow": null,
      "grid_auto_rows": null,
      "grid_column": null,
      "grid_gap": null,
      "grid_row": null,
      "grid_template_areas": null,
      "grid_template_columns": null,
      "grid_template_rows": null,
      "height": null,
      "justify_content": null,
      "justify_items": null,
      "left": null,
      "margin": null,
      "max_height": null,
      "max_width": null,
      "min_height": null,
      "min_width": null,
      "object_fit": null,
      "object_position": null,
      "order": null,
      "overflow": null,
      "overflow_x": null,
      "overflow_y": null,
      "padding": null,
      "right": null,
      "top": null,
      "visibility": null,
      "width": null
     }
    },
    "9f08931f4b5945dbac2fffd26672567a": {
     "model_module": "@jupyter-widgets/controls",
     "model_module_version": "1.5.0",
     "model_name": "HTMLModel",
     "state": {
      "_dom_classes": [],
      "_model_module": "@jupyter-widgets/controls",
      "_model_module_version": "1.5.0",
      "_model_name": "HTMLModel",
      "_view_count": null,
      "_view_module": "@jupyter-widgets/controls",
      "_view_module_version": "1.5.0",
      "_view_name": "HTMLView",
      "description": "",
      "description_tooltip": null,
      "layout": "IPY_MODEL_7de99ff658ff4b70b71e1d926e197c2f",
      "placeholder": "​",
      "style": "IPY_MODEL_924adba37e6c41a9a6918b23b17ca01a",
      "value": " 26.8k/26.8k [00:00&lt;00:00, 1.23MB/s]"
     }
    },
    "b15b7306794a4899b1d886e98203265a": {
     "model_module": "@jupyter-widgets/controls",
     "model_module_version": "1.5.0",
     "model_name": "HBoxModel",
     "state": {
      "_dom_classes": [],
      "_model_module": "@jupyter-widgets/controls",
      "_model_module_version": "1.5.0",
      "_model_name": "HBoxModel",
      "_view_count": null,
      "_view_module": "@jupyter-widgets/controls",
      "_view_module_version": "1.5.0",
      "_view_name": "HBoxView",
      "box_style": "",
      "children": [
       "IPY_MODEL_0464574a102b46ae987a0351ec5627c2",
       "IPY_MODEL_5a882d44858949f6bf792e65a1c9a26c",
       "IPY_MODEL_ef9d8f5543924688b0699c2012ff170f"
      ],
      "layout": "IPY_MODEL_53b2e8c06ddf416d9efeeb9f24deb4f0"
     }
    },
    "b237d85c7ecb49ea8f82dae598beca8e": {
     "model_module": "@jupyter-widgets/base",
     "model_module_version": "1.2.0",
     "model_name": "LayoutModel",
     "state": {
      "_model_module": "@jupyter-widgets/base",
      "_model_module_version": "1.2.0",
      "_model_name": "LayoutModel",
      "_view_count": null,
      "_view_module": "@jupyter-widgets/base",
      "_view_module_version": "1.2.0",
      "_view_name": "LayoutView",
      "align_content": null,
      "align_items": null,
      "align_self": null,
      "border": null,
      "bottom": null,
      "display": null,
      "flex": null,
      "flex_flow": null,
      "grid_area": null,
      "grid_auto_columns": null,
      "grid_auto_flow": null,
      "grid_auto_rows": null,
      "grid_column": null,
      "grid_gap": null,
      "grid_row": null,
      "grid_template_areas": null,
      "grid_template_columns": null,
      "grid_template_rows": null,
      "height": null,
      "justify_content": null,
      "justify_items": null,
      "left": null,
      "margin": null,
      "max_height": null,
      "max_width": null,
      "min_height": null,
      "min_width": null,
      "object_fit": null,
      "object_position": null,
      "order": null,
      "overflow": null,
      "overflow_x": null,
      "overflow_y": null,
      "padding": null,
      "right": null,
      "top": null,
      "visibility": null,
      "width": null
     }
    },
    "cd8582d74c4b43d9b77a37a0b1f37ab7": {
     "model_module": "@jupyter-widgets/controls",
     "model_module_version": "1.5.0",
     "model_name": "DescriptionStyleModel",
     "state": {
      "_model_module": "@jupyter-widgets/controls",
      "_model_module_version": "1.5.0",
      "_model_name": "DescriptionStyleModel",
      "_view_count": null,
      "_view_module": "@jupyter-widgets/base",
      "_view_module_version": "1.2.0",
      "_view_name": "StyleView",
      "description_width": ""
     }
    },
    "e9e4fcca326b465f8c5b357741b61086": {
     "model_module": "@jupyter-widgets/base",
     "model_module_version": "1.2.0",
     "model_name": "LayoutModel",
     "state": {
      "_model_module": "@jupyter-widgets/base",
      "_model_module_version": "1.2.0",
      "_model_name": "LayoutModel",
      "_view_count": null,
      "_view_module": "@jupyter-widgets/base",
      "_view_module_version": "1.2.0",
      "_view_name": "LayoutView",
      "align_content": null,
      "align_items": null,
      "align_self": null,
      "border": null,
      "bottom": null,
      "display": null,
      "flex": null,
      "flex_flow": null,
      "grid_area": null,
      "grid_auto_columns": null,
      "grid_auto_flow": null,
      "grid_auto_rows": null,
      "grid_column": null,
      "grid_gap": null,
      "grid_row": null,
      "grid_template_areas": null,
      "grid_template_columns": null,
      "grid_template_rows": null,
      "height": null,
      "justify_content": null,
      "justify_items": null,
      "left": null,
      "margin": null,
      "max_height": null,
      "max_width": null,
      "min_height": null,
      "min_width": null,
      "object_fit": null,
      "object_position": null,
      "order": null,
      "overflow": null,
      "overflow_x": null,
      "overflow_y": null,
      "padding": null,
      "right": null,
      "top": null,
      "visibility": null,
      "width": null
     }
    },
    "ec7c2cf30a5a4535af4325aa8270a184": {
     "model_module": "@jupyter-widgets/controls",
     "model_module_version": "1.5.0",
     "model_name": "DescriptionStyleModel",
     "state": {
      "_model_module": "@jupyter-widgets/controls",
      "_model_module_version": "1.5.0",
      "_model_name": "DescriptionStyleModel",
      "_view_count": null,
      "_view_module": "@jupyter-widgets/base",
      "_view_module_version": "1.2.0",
      "_view_name": "StyleView",
      "description_width": ""
     }
    },
    "ef9d8f5543924688b0699c2012ff170f": {
     "model_module": "@jupyter-widgets/controls",
     "model_module_version": "1.5.0",
     "model_name": "HTMLModel",
     "state": {
      "_dom_classes": [],
      "_model_module": "@jupyter-widgets/controls",
      "_model_module_version": "1.5.0",
      "_model_name": "HTMLModel",
      "_view_count": null,
      "_view_module": "@jupyter-widgets/controls",
      "_view_module_version": "1.5.0",
      "_view_name": "HTMLView",
      "description": "",
      "description_tooltip": null,
      "layout": "IPY_MODEL_8cdb1dfc15eb4f15a5b891c60270044d",
      "placeholder": "​",
      "style": "IPY_MODEL_6dc8e924c0754cd0a70bfd5abff53630",
      "value": " 346M/346M [00:01&lt;00:00, 166MB/s]"
     }
    }
   }
  }
 },
 "nbformat": 4,
 "nbformat_minor": 1
}
